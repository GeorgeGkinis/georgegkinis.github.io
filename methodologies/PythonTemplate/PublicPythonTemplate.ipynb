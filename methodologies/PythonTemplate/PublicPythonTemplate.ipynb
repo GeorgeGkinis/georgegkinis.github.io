{
 "cells": [
  {
   "cell_type": "code",
   "execution_count": 1,
   "id": "initial_id",
   "metadata": {
    "ExecuteTime": {
     "end_time": "2024-11-21T09:19:49.488978Z",
     "start_time": "2024-11-21T09:19:49.484631Z"
    },
    "collapsed": true,
    "execution": {
     "iopub.execute_input": "2024-11-25T10:11:55.698670Z",
     "iopub.status.busy": "2024-11-25T10:11:55.698150Z",
     "iopub.status.idle": "2024-11-25T10:11:55.945534Z",
     "shell.execute_reply": "2024-11-25T10:11:55.944781Z"
    }
   },
   "outputs": [],
   "source": [
    "import pandas as pd  # Ensure pandas is imported"
   ]
  },
  {
   "cell_type": "code",
   "execution_count": 2,
   "id": "e8215bb56d94ca36",
   "metadata": {
    "execution": {
     "iopub.execute_input": "2024-11-25T10:11:55.948180Z",
     "iopub.status.busy": "2024-11-25T10:11:55.947782Z",
     "iopub.status.idle": "2024-11-25T10:11:55.953469Z",
     "shell.execute_reply": "2024-11-25T10:11:55.952816Z"
    }
   },
   "outputs": [],
   "source": [
    "df1 = pd.read_csv(r'data/df1.csv')"
   ]
  },
  {
   "cell_type": "code",
   "execution_count": 3,
   "id": "86abf10a435e69f7",
   "metadata": {
    "execution": {
     "iopub.execute_input": "2024-11-25T10:11:55.955792Z",
     "iopub.status.busy": "2024-11-25T10:11:55.955393Z",
     "iopub.status.idle": "2024-11-25T10:11:55.965218Z",
     "shell.execute_reply": "2024-11-25T10:11:55.964553Z"
    }
   },
   "outputs": [
    {
     "data": {
      "text/html": [
       "<div>\n",
       "<style scoped>\n",
       "    .dataframe tbody tr th:only-of-type {\n",
       "        vertical-align: middle;\n",
       "    }\n",
       "\n",
       "    .dataframe tbody tr th {\n",
       "        vertical-align: top;\n",
       "    }\n",
       "\n",
       "    .dataframe thead th {\n",
       "        text-align: right;\n",
       "    }\n",
       "</style>\n",
       "<table border=\"1\" class=\"dataframe\">\n",
       "  <thead>\n",
       "    <tr style=\"text-align: right;\">\n",
       "      <th></th>\n",
       "      <th>ID</th>\n",
       "    </tr>\n",
       "  </thead>\n",
       "  <tbody>\n",
       "    <tr>\n",
       "      <th>0</th>\n",
       "      <td>1</td>\n",
       "    </tr>\n",
       "  </tbody>\n",
       "</table>\n",
       "</div>"
      ],
      "text/plain": [
       "   ID\n",
       "0   1"
      ]
     },
     "execution_count": 3,
     "metadata": {},
     "output_type": "execute_result"
    }
   ],
   "source": [
    "df1.head()"
   ]
  }
 ],
 "metadata": {
  "kernelspec": {
   "display_name": "Python 3",
   "language": "python",
   "name": "python3"
  },
  "language_info": {
   "codemirror_mode": {
    "name": "ipython",
    "version": 3
   },
   "file_extension": ".py",
   "mimetype": "text/x-python",
   "name": "python",
   "nbconvert_exporter": "python",
   "pygments_lexer": "ipython3",
   "version": "3.10.9"
  }
 },
 "nbformat": 4,
 "nbformat_minor": 5
}
