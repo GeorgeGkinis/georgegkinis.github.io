{
 "cells": [
  {
   "cell_type": "code",
   "execution_count": 1,
   "id": "initial_id",
   "metadata": {
    "ExecuteTime": {
     "end_time": "2024-11-21T09:19:49.488978Z",
     "start_time": "2024-11-21T09:19:49.484631Z"
    },
    "collapsed": true,
    "execution": {
     "iopub.execute_input": "2024-11-22T23:54:06.921325Z",
     "iopub.status.busy": "2024-11-22T23:54:06.920673Z",
     "iopub.status.idle": "2024-11-22T23:54:07.162494Z",
     "shell.execute_reply": "2024-11-22T23:54:07.161765Z"
    }
   },
   "outputs": [],
   "source": [
    "import pandas as pd  # Ensure pandas is imported"
   ]
  },
  {
   "cell_type": "code",
   "execution_count": 2,
   "id": "e8215bb56d94ca36",
   "metadata": {
    "execution": {
     "iopub.execute_input": "2024-11-22T23:54:07.165277Z",
     "iopub.status.busy": "2024-11-22T23:54:07.164808Z",
     "iopub.status.idle": "2024-11-22T23:54:07.170437Z",
     "shell.execute_reply": "2024-11-22T23:54:07.169792Z"
    }
   },
   "outputs": [],
   "source": [
    "df1 = pd.read_csv(r'data/df1.csv')"
   ]
  },
  {
   "cell_type": "code",
   "execution_count": 3,
   "id": "86abf10a435e69f7",
   "metadata": {
    "execution": {
     "iopub.execute_input": "2024-11-22T23:54:07.172741Z",
     "iopub.status.busy": "2024-11-22T23:54:07.172355Z",
     "iopub.status.idle": "2024-11-22T23:54:07.181252Z",
     "shell.execute_reply": "2024-11-22T23:54:07.180618Z"
    }
   },
   "outputs": [
    {
     "data": {
      "text/html": [
       "<div>\n",
       "<style scoped>\n",
       "    .dataframe tbody tr th:only-of-type {\n",
       "        vertical-align: middle;\n",
       "    }\n",
       "\n",
       "    .dataframe tbody tr th {\n",
       "        vertical-align: top;\n",
       "    }\n",
       "\n",
       "    .dataframe thead th {\n",
       "        text-align: right;\n",
       "    }\n",
       "</style>\n",
       "<table border=\"1\" class=\"dataframe\">\n",
       "  <thead>\n",
       "    <tr style=\"text-align: right;\">\n",
       "      <th></th>\n",
       "      <th>1</th>\n",
       "    </tr>\n",
       "  </thead>\n",
       "  <tbody>\n",
       "    <tr>\n",
       "      <th>0</th>\n",
       "      <td>2</td>\n",
       "    </tr>\n",
       "  </tbody>\n",
       "</table>\n",
       "</div>"
      ],
      "text/plain": [
       "   1\n",
       "0  2"
      ]
     },
     "execution_count": 3,
     "metadata": {},
     "output_type": "execute_result"
    }
   ],
   "source": [
    "df1.head()"
   ]
  }
 ],
 "metadata": {
  "kernelspec": {
   "display_name": "Python 3",
   "language": "python",
   "name": "python3"
  },
  "language_info": {
   "codemirror_mode": {
    "name": "ipython",
    "version": 3
   },
   "file_extension": ".py",
   "mimetype": "text/x-python",
   "name": "python",
   "nbconvert_exporter": "python",
   "pygments_lexer": "ipython3",
   "version": "3.10.9"
  }
 },
 "nbformat": 4,
 "nbformat_minor": 5
}
